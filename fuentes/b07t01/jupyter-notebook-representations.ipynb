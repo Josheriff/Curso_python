{
 "cells": [
  {
   "cell_type": "markdown",
   "metadata": {},
   "source": [
    "%matplotlib inline"
   ]
  },
  {
   "cell_type": "markdown",
   "metadata": {},
   "source": [
    "# Jupyter Notebook\n",
    "\n",
    "Todo lo que puedes hacer con IPython, puedes hacerlo en Notebook."
   ]
  },
  {
   "cell_type": "code",
   "execution_count": null,
   "metadata": {},
   "outputs": [],
   "source": [
    "?"
   ]
  },
  {
   "cell_type": "markdown",
   "metadata": {},
   "source": [
    "Además, Notebook permite representaciones enriquecidas de los objetos. Y no tenemos por qué constreñirnos a representaciones visuales. La siguiente clase crea objetos cuya representación HTML es un sonido."
   ]
  },
  {
   "cell_type": "code",
   "execution_count": null,
   "metadata": {},
   "outputs": [],
   "source": [
    "class play:\n",
    "    \"\"\"\n",
    "    Create a sound-like object from a ``buffer``. The buffer should contain\n",
    "    floats in the range [-1, 1]. The sound will play for ``duration`` seconds.\n",
    "    \"\"\"\n",
    "    def __init__(self, buffer, duration=1):\n",
    "        self._buffer = list(buffer)\n",
    "        self._duration = duration\n",
    "        \n",
    "    def _repr_html_(self):\n",
    "        return f\"\"\"\n",
    "<script>\n",
    "  (function() {{\n",
    "    const data = {self._buffer};\n",
    "    const context = new AudioContext();\n",
    "    const samples = context.sampleRate * {self._duration};\n",
    "    const buffer = context.createBuffer(1, samples, context.sampleRate);\n",
    "    const channel = buffer.getChannelData(0);\n",
    "    for (let i = 0; i < samples; i++) {{\n",
    "        channel[i] = data[i % data.length];\n",
    "    }}\n",
    "    const source = context.createBufferSource();\n",
    "    source.buffer = buffer;\n",
    "    source.connect(context.destination);\n",
    "    source.start();\n",
    "  }}())\n",
    "</script>\n",
    "\"\"\""
   ]
  },
  {
   "cell_type": "code",
   "execution_count": null,
   "metadata": {},
   "outputs": [],
   "source": [
    "play?"
   ]
  },
  {
   "cell_type": "code",
   "execution_count": null,
   "metadata": {},
   "outputs": [],
   "source": [
    "import matplotlib.pyplot as plt\n",
    "import numpy as np\n",
    "from scipy.signal import *"
   ]
  },
  {
   "cell_type": "markdown",
   "metadata": {},
   "source": [
    "Explora las [funciones del paquete signal de scipy](https://docs.scipy.org/doc/scipy/reference/signal.html#waveforms), prueba a visualizarlas y luego a reproducirlas."
   ]
  },
  {
   "cell_type": "code",
   "execution_count": null,
   "metadata": {},
   "outputs": [],
   "source": [
    "x = np.linspace(0, 1, 500, endpoint=False)\n",
    "y = square(2 * np.pi * 5 * x)\n",
    "plt.plot(x, y)\n",
    "plt.title('A square wave')"
   ]
  },
  {
   "cell_type": "markdown",
   "metadata": {},
   "source": [
    "Cuando ejecutes este código, la onda se reproducirá automáticamente."
   ]
  },
  {
   "cell_type": "code",
   "execution_count": null,
   "metadata": {},
   "outputs": [],
   "source": [
    "play(y)"
   ]
  }
 ],
 "metadata": {
  "kernelspec": {
   "display_name": "Python 3",
   "language": "python",
   "name": "python3"
  },
  "language_info": {
   "codemirror_mode": {
    "name": "ipython",
    "version": 3
   },
   "file_extension": ".py",
   "mimetype": "text/x-python",
   "name": "python",
   "nbconvert_exporter": "python",
   "pygments_lexer": "ipython3",
   "version": "3.7.3"
  }
 },
 "nbformat": 4,
 "nbformat_minor": 2
}
